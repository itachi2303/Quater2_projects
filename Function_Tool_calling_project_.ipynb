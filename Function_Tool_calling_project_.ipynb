{
  "nbformat": 4,
  "nbformat_minor": 0,
  "metadata": {
    "colab": {
      "provenance": [],
      "authorship_tag": "ABX9TyP5jseZwt6HKyZSyAKqw1Jc",
      "include_colab_link": true
    },
    "kernelspec": {
      "name": "python3",
      "display_name": "Python 3"
    },
    "language_info": {
      "name": "python"
    }
  },
  "cells": [
    {
      "cell_type": "markdown",
      "metadata": {
        "id": "view-in-github",
        "colab_type": "text"
      },
      "source": [
        "<a href=\"https://colab.research.google.com/github/itachi2303/Quater2_projects/blob/main/Function_Tool_calling_project_.ipynb\" target=\"_parent\"><img src=\"https://colab.research.google.com/assets/colab-badge.svg\" alt=\"Open In Colab\"/></a>"
      ]
    },
    {
      "cell_type": "code",
      "execution_count": 52,
      "metadata": {
        "id": "_oDhXML6BPku"
      },
      "outputs": [],
      "source": [
        "%pip install -qU langchain-google-genai"
      ]
    },
    {
      "cell_type": "code",
      "source": [
        "from google.colab import userdata\n",
        "import os\n",
        "\n",
        "os.environ['GOOGLE_API_KEY'] = userdata.get(\"GOOGLE_API_KEY\")"
      ],
      "metadata": {
        "id": "iKUkWBmFw59L"
      },
      "execution_count": 53,
      "outputs": []
    },
    {
      "cell_type": "code",
      "source": [
        "from langchain_google_genai import ChatGoogleGenerativeAI"
      ],
      "metadata": {
        "id": "s57OnMPM2h3R"
      },
      "execution_count": 54,
      "outputs": []
    },
    {
      "cell_type": "code",
      "source": [
        "llm = ChatGoogleGenerativeAI(\n",
        "    model='gemini-1.5-flash',\n",
        "    temperature=0.6\n",
        ")"
      ],
      "metadata": {
        "id": "u4v4I2sr4jTS"
      },
      "execution_count": 55,
      "outputs": []
    },
    {
      "cell_type": "code",
      "source": [
        "from langchain_core.tools import tool"
      ],
      "metadata": {
        "id": "9gLpU07pE8EA"
      },
      "execution_count": 56,
      "outputs": []
    },
    {
      "cell_type": "code",
      "source": [
        "@tool\n",
        "def calculator(num1 : int | float, num2 : int | float):\n",
        "  \"\"\"Tool for performing basic arithmatic opertaions, You will only provide the asked query value not other one\"\"\"\n",
        "\n",
        "  print(f\"The value of {num1} + {num2} => {num1 + num2}\")\n",
        "  print(f\"The value of {num1} - {num2} => {num1 - num2}\")\n",
        "  print(f\"The value of {num1} x {num2} => {num1 * num2}\")\n",
        "  print(f\"The value of {num1} / {num2} => {num1 / num2}\")\n",
        "  print(f\"The value of {num1} % {num2} => {num1 % num2}\")\n"
      ],
      "metadata": {
        "id": "46miw-l9EJqw"
      },
      "execution_count": 57,
      "outputs": []
    },
    {
      "cell_type": "code",
      "source": [
        "tools = [calculator]"
      ],
      "metadata": {
        "id": "KZ9x_wCT9ARV"
      },
      "execution_count": 58,
      "outputs": []
    },
    {
      "cell_type": "code",
      "source": [
        "from langchain.agents import initialize_agent, AgentType"
      ],
      "metadata": {
        "id": "tb3yKYg0XPZ0"
      },
      "execution_count": 59,
      "outputs": []
    },
    {
      "cell_type": "code",
      "source": [
        "agent = initialize_agent(tools,llm, agent=AgentType.STRUCTURED_CHAT_ZERO_SHOT_REACT_DESCRIPTION, verbose = True )"
      ],
      "metadata": {
        "id": "40E88tYYXo_K"
      },
      "execution_count": 60,
      "outputs": []
    },
    {
      "cell_type": "code",
      "source": [
        "response = agent.invoke(\"what is 3 + 3\")\n",
        "response"
      ],
      "metadata": {
        "colab": {
          "base_uri": "https://localhost:8080/"
        },
        "id": "H7UaNF1aZUZ5",
        "outputId": "a99a3ff1-779f-454d-a91a-7aabe09f0c58"
      },
      "execution_count": 61,
      "outputs": [
        {
          "output_type": "stream",
          "name": "stdout",
          "text": [
            "\n",
            "\n",
            "\u001b[1m> Entering new AgentExecutor chain...\u001b[0m\n",
            "\u001b[32;1m\u001b[1;3mThought:I need to calculate 3 + 3.\n",
            "Action:\n",
            "```json\n",
            "{\n",
            "  \"action\": \"calculator\",\n",
            "  \"action_input\": {\n",
            "    \"num1\": 3,\n",
            "    \"num2\": 3\n",
            "  }\n",
            "}\n",
            "```\u001b[0mThe value of 3 + 3 => 6\n",
            "The value of 3 - 3 => 0\n",
            "The value of 3 x 3 => 9\n",
            "The value of 3 / 3 => 1.0\n",
            "The value of 3 % 3 => 0\n",
            "\n",
            "Observation: \u001b[36;1m\u001b[1;3mNone\u001b[0m\n",
            "Thought:\u001b[32;1m\u001b[1;3mThought:I need to calculate 3 + 3 using the calculator tool.\n",
            "Action:\n",
            "```json\n",
            "{\n",
            "  \"action\": \"calculator\",\n",
            "  \"action_input\": {\n",
            "    \"num1\": 3,\n",
            "    \"num2\": 3\n",
            "  }\n",
            "}\n",
            "```\u001b[0mThe value of 3 + 3 => 6\n",
            "The value of 3 - 3 => 0\n",
            "The value of 3 x 3 => 9\n",
            "The value of 3 / 3 => 1.0\n",
            "The value of 3 % 3 => 0\n",
            "\n",
            "Observation: \u001b[36;1m\u001b[1;3mNone\u001b[0m\n",
            "Thought:\u001b[32;1m\u001b[1;3mThought:I need to calculate 3 + 3 using the calculator tool.\n",
            "Action:\n",
            "```json\n",
            "{\n",
            "  \"action\": \"calculator\",\n",
            "  \"action_input\": {\n",
            "    \"num1\": 3,\n",
            "    \"num2\": 3\n",
            "  }\n",
            "}\n",
            "```\u001b[0mThe value of 3 + 3 => 6\n",
            "The value of 3 - 3 => 0\n",
            "The value of 3 x 3 => 9\n",
            "The value of 3 / 3 => 1.0\n",
            "The value of 3 % 3 => 0\n",
            "\n",
            "Observation: \u001b[36;1m\u001b[1;3mNone\u001b[0m\n",
            "Thought:\u001b[32;1m\u001b[1;3mThought:I need to calculate 3 + 3 using the calculator tool.\n",
            "Action:\n",
            "```json\n",
            "{\n",
            "  \"action\": \"calculator\",\n",
            "  \"action_input\": {\n",
            "    \"num1\": 3,\n",
            "    \"num2\": 3\n",
            "  }\n",
            "}\n",
            "```\u001b[0mThe value of 3 + 3 => 6\n",
            "The value of 3 - 3 => 0\n",
            "The value of 3 x 3 => 9\n",
            "The value of 3 / 3 => 1.0\n",
            "The value of 3 % 3 => 0\n",
            "\n",
            "Observation: \u001b[36;1m\u001b[1;3mNone\u001b[0m\n",
            "Thought:\u001b[32;1m\u001b[1;3mThought:I need to calculate 3 + 3 using the calculator tool.\n",
            "Action:\n",
            "```json\n",
            "{\n",
            "  \"action\": \"calculator\",\n",
            "  \"action_input\": {\n",
            "    \"num1\": 3,\n",
            "    \"num2\": 3\n",
            "  }\n",
            "}\n",
            "```\u001b[0mThe value of 3 + 3 => 6\n",
            "The value of 3 - 3 => 0\n",
            "The value of 3 x 3 => 9\n",
            "The value of 3 / 3 => 1.0\n",
            "The value of 3 % 3 => 0\n",
            "\n",
            "Observation: \u001b[36;1m\u001b[1;3mNone\u001b[0m\n",
            "Thought:\u001b[32;1m\u001b[1;3mThought:I need to calculate 3 + 3 using the calculator tool.\n",
            "Action:\n",
            "```json\n",
            "{\n",
            "  \"action\": \"calculator\",\n",
            "  \"action_input\": {\n",
            "    \"num1\": 3,\n",
            "    \"num2\": 3\n",
            "  }\n",
            "}\n",
            "```\u001b[0mThe value of 3 + 3 => 6\n",
            "The value of 3 - 3 => 0\n",
            "The value of 3 x 3 => 9\n",
            "The value of 3 / 3 => 1.0\n",
            "The value of 3 % 3 => 0\n",
            "\n",
            "Observation: \u001b[36;1m\u001b[1;3mNone\u001b[0m\n",
            "Thought:\u001b[32;1m\u001b[1;3mAction:\n",
            "```json\n",
            "{\n",
            "  \"action\": \"calculator\",\n",
            "  \"action_input\": {\n",
            "    \"num1\": 3,\n",
            "    \"num2\": 3\n",
            "  }\n",
            "}\n",
            "```\u001b[0mThe value of 3 + 3 => 6\n",
            "The value of 3 - 3 => 0\n",
            "The value of 3 x 3 => 9\n",
            "The value of 3 / 3 => 1.0\n",
            "The value of 3 % 3 => 0\n",
            "\n",
            "Observation: \u001b[36;1m\u001b[1;3mNone\u001b[0m\n",
            "Thought:\u001b[32;1m\u001b[1;3mAction:\n",
            "```json\n",
            "{\n",
            "  \"action\": \"calculator\",\n",
            "  \"action_input\": {\n",
            "    \"num1\": 3,\n",
            "    \"num2\": 3\n",
            "  }\n",
            "}\n",
            "```\u001b[0mThe value of 3 + 3 => 6\n",
            "The value of 3 - 3 => 0\n",
            "The value of 3 x 3 => 9\n",
            "The value of 3 / 3 => 1.0\n",
            "The value of 3 % 3 => 0\n",
            "\n",
            "Observation: \u001b[36;1m\u001b[1;3mNone\u001b[0m\n",
            "Thought:\u001b[32;1m\u001b[1;3mThought:I can directly calculate 3 + 3.\n",
            "Action:\n",
            "```json\n",
            "{\n",
            "  \"action\": \"Final Answer\",\n",
            "  \"action_input\": \"6\"\n",
            "}\n",
            "```\u001b[0m\n",
            "\n",
            "\u001b[1m> Finished chain.\u001b[0m\n"
          ]
        },
        {
          "output_type": "execute_result",
          "data": {
            "text/plain": [
              "{'input': 'what is 3 + 3', 'output': '6'}"
            ]
          },
          "metadata": {},
          "execution_count": 61
        }
      ]
    }
  ]
}